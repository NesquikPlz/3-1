{
  "nbformat": 4,
  "nbformat_minor": 0,
  "metadata": {
    "anaconda-cloud": {},
    "colab": {
      "name": "AS1_Logistic_Regression.ipynb",
      "provenance": [],
      "collapsed_sections": [],
      "toc_visible": true
    },
    "kernelspec": {
      "display_name": "Python 3",
      "language": "python",
      "name": "python3"
    },
    "language_info": {
      "codemirror_mode": {
        "name": "ipython",
        "version": 3
      },
      "file_extension": ".py",
      "mimetype": "text/x-python",
      "name": "python",
      "nbconvert_exporter": "python",
      "pygments_lexer": "ipython3",
      "version": "3.5.2"
    },
    "accelerator": "GPU"
  },
  "cells": [
    {
      "cell_type": "markdown",
      "metadata": {
        "id": "t6j5WcA3GbSk"
      },
      "source": [
        "#Assignment 1: Logistic Regression"
      ]
    },
    {
      "cell_type": "markdown",
      "metadata": {
        "id": "ei9BMeksGbSn"
      },
      "source": [
        "## Dataset load & Plot"
      ]
    },
    {
      "cell_type": "code",
      "metadata": {
        "id": "Vlb19coAGbSo"
      },
      "source": [
        "%matplotlib inline\n",
        "import numpy as np\n",
        "import matplotlib.pyplot as plt\n",
        "from sklearn.linear_model import LogisticRegression\n",
        "from warnings import filterwarnings\n",
        "filterwarnings('ignore')"
      ],
      "execution_count": 40,
      "outputs": []
    },
    {
      "cell_type": "code",
      "metadata": {
        "id": "xV9Z9RPMGbSt",
        "scrolled": true,
        "colab": {
          "base_uri": "https://localhost:8080/",
          "height": 265
        },
        "outputId": "8d39c80d-7cf0-4f10-d397-bce6848d432b"
      },
      "source": [
        "data = np.loadtxt('data.csv', delimiter=',')\n",
        "X = data[:, :2]\n",
        "y = data[:, 2]\n",
        "label_mask = np.equal(y, 1)\n",
        "\n",
        "plt.scatter(X[:, 0][label_mask], X[:, 1][label_mask], color='red')\n",
        "plt.scatter(X[:, 0][~label_mask], X[:, 1][~label_mask], color='blue')\n",
        "plt.show()"
      ],
      "execution_count": 41,
      "outputs": [
        {
          "output_type": "display_data",
          "data": {
            "image/png": "[encoded data removed]",
            "text/plain": [
              "<Figure size 432x288 with 1 Axes>"
            ]
          },
          "metadata": {
            "tags": [],
            "needs_background": "light"
          }
        }
      ]
    },
    {
      "cell_type": "markdown",
      "metadata": {
        "id": "kwcWe3pDGbSy"
      },
      "source": [
        "# Problem 1-1. Logistic regression model using sklearn packages.\n",
        "\n",
        "Train your data using LogisticRegression classes from skikit-learn library.\n"
      ]
    },
    {
      "cell_type": "code",
      "metadata": {
        "id": "ONWQ_Q5yGbS0"
      },
      "source": [
        "def learn_and_return_weights(X, y):\n",
        "    from sklearn.linear_model import LogisticRegression\n",
        "\n",
        "    logireg = LogisticRegression(C=500.0)\n",
        "    logireg.fit(X, y)\n",
        "    w = logireg.coef_.reshape(2,-1)\n",
        "    b = logireg.intercept_\n",
        "\n",
        "    \n",
        "    return w, b"
      ],
      "execution_count": 42,
      "outputs": []
    },
    {
      "cell_type": "code",
      "metadata": {
        "id": "HkQB55lkGbS3",
        "colab": {
          "base_uri": "https://localhost:8080/",
          "height": 300
        },
        "outputId": "3f8adf01-b6e7-409d-ca81-af97a3ecb3f8"
      },
      "source": [
        "def plot_data_and_weights(X, y, w, b):\n",
        "\n",
        "    print(w, b)\n",
        "    plt.scatter(X[:, 0][label_mask], X[:, 1][label_mask], color='red')\n",
        "    plt.scatter(X[:, 0][~label_mask], X[:, 1][~label_mask], color='blue')\n",
        "\n",
        "    x_lin = np.arange(20, 70)\n",
        "    y_lin = -(0.5 + b + w[0] * x_lin) / w[1]\n",
        "\n",
        "    plt.plot(x_lin, y_lin, color='black');\n",
        "    plt.show()\n",
        "\n",
        "w, b = learn_and_return_weights(X, y)\n",
        "plot_data_and_weights(X, y, w, b)"
      ],
      "execution_count": 43,
      "outputs": [
        {
          "output_type": "stream",
          "text": [
            "[[-5.68076256e+00]\n",
            " [ 5.06951001e-03]] [-0.13084931]\n"
          ],
          "name": "stdout"
        },
        {
          "output_type": "display_data",
          "data": {
            "image/png": "[encoded data removed]",
            "text/plain": [
              "<Figure size 432x288 with 1 Axes>"
            ]
          },
          "metadata": {
            "tags": [],
            "needs_background": "light"
          }
        }
      ]
    },
    {
      "cell_type": "markdown",
      "metadata": {
        "id": "jKYz83ecGbS6"
      },
      "source": [
        "## Problem 1-2. Implement Logistic Regression Model\n",
        "\n",
        "Implement Logistic Regression without using scikit-learn libraries.\n"
      ]
    },
    {
      "cell_type": "code",
      "metadata": {
        "id": "eGTRLxvsGbS7"
      },
      "source": [
        "def sigmoid(z):\n",
        "    return 1.0/(1+np.exp(-z))\n",
        "\n",
        "def binary_cross_entropy_loss(y_pred, target): \n",
        "    return np.sum(-1 * target * np.log(y_pred) + (target-1)*np.log(1 - y_pred)).mean()\n",
        "\n",
        "def learn_and_return_weights_numpy(X, Y, lr=.02, iter=300000):\n",
        "    Y = Y.reshape([-1, 1])\n",
        "    W = np.random.rand(2, 1)\n",
        "    b = np.random.rand(1)\n",
        "    for i in range(iter): \n",
        "      h = sigmoid(np.dot(X, W)+b)\n",
        "      e = binary_cross_entropy_loss(h, Y)\n",
        "      g = np.dot(X.T, h-Y)/Y.size\n",
        "      W = W - lr*g\n",
        "    return W, b"
      ],
      "execution_count": 44,
      "outputs": []
    },
    {
      "cell_type": "code",
      "metadata": {
        "id": "ryO_ItqRGbS_",
        "colab": {
          "base_uri": "https://localhost:8080/",
          "height": 300
        },
        "outputId": "bda1c6d4-697c-4db6-dfba-b11f90406370"
      },
      "source": [
        "w, b = learn_and_return_weights_numpy(X, y)\n",
        "plot_data_and_weights(X, y, w, b)"
      ],
      "execution_count": 45,
      "outputs": [
        {
          "output_type": "stream",
          "text": [
            "[[-4.11212237e+02]\n",
            " [ 3.69979357e-01]] [0.26220262]\n"
          ],
          "name": "stdout"
        },
        {
          "output_type": "display_data",
          "data": {
            "image/png": "[encoded data removed]",
            "text/plain": [
              "<Figure size 432x288 with 1 Axes>"
            ]
          },
          "metadata": {
            "tags": [],
            "needs_background": "light"
          }
        }
      ]
    }
  ]
}
